{
 "cells": [
  {
   "cell_type": "markdown",
   "metadata": {},
   "source": [
    "# Part 3: Geocode Untappd Breweries\n",
    "\n",
    "Geocode the *place* field for each brewery to lat-long with the Google Maps geocoding API."
   ]
  },
  {
   "cell_type": "code",
   "execution_count": 1,
   "metadata": {
    "collapsed": true
   },
   "outputs": [],
   "source": [
    "import requests, time, pandas as pd, numpy as np"
   ]
  },
  {
   "cell_type": "code",
   "execution_count": 2,
   "metadata": {
    "collapsed": true
   },
   "outputs": [],
   "source": [
    "# set the pause duration between api requests\n",
    "pause = 0.1"
   ]
  },
  {
   "cell_type": "code",
   "execution_count": 3,
   "metadata": {
    "collapsed": false
   },
   "outputs": [
    {
     "data": {
      "text/html": [
       "<div>\n",
       "<table border=\"1\" class=\"dataframe\">\n",
       "  <thead>\n",
       "    <tr style=\"text-align: right;\">\n",
       "      <th></th>\n",
       "      <th>brewery_name</th>\n",
       "      <th>brewery_place</th>\n",
       "    </tr>\n",
       "  </thead>\n",
       "  <tbody>\n",
       "    <tr>\n",
       "      <th>0</th>\n",
       "      <td>Klamath Basin Brewing</td>\n",
       "      <td>Klamath Falls, OR United States</td>\n",
       "    </tr>\n",
       "    <tr>\n",
       "      <th>1</th>\n",
       "      <td>McMenamins</td>\n",
       "      <td>Portland, OR United States</td>\n",
       "    </tr>\n",
       "    <tr>\n",
       "      <th>2</th>\n",
       "      <td>Brauerei Veltins</td>\n",
       "      <td>59872 Meschede, NW Germany</td>\n",
       "    </tr>\n",
       "    <tr>\n",
       "      <th>3</th>\n",
       "      <td>Migration Brewing</td>\n",
       "      <td>Portland, OR United States</td>\n",
       "    </tr>\n",
       "    <tr>\n",
       "      <th>4</th>\n",
       "      <td>Migration Brewing</td>\n",
       "      <td>Portland, OR United States</td>\n",
       "    </tr>\n",
       "    <tr>\n",
       "      <th>5</th>\n",
       "      <td>Migration Brewing</td>\n",
       "      <td>Portland, OR United States</td>\n",
       "    </tr>\n",
       "    <tr>\n",
       "      <th>6</th>\n",
       "      <td>Migration Brewing</td>\n",
       "      <td>Portland, OR United States</td>\n",
       "    </tr>\n",
       "    <tr>\n",
       "      <th>7</th>\n",
       "      <td>Migration Brewing</td>\n",
       "      <td>Portland, OR United States</td>\n",
       "    </tr>\n",
       "    <tr>\n",
       "      <th>8</th>\n",
       "      <td>Migration Brewing</td>\n",
       "      <td>Portland, OR United States</td>\n",
       "    </tr>\n",
       "    <tr>\n",
       "      <th>9</th>\n",
       "      <td>Barley Brown's Beer</td>\n",
       "      <td>Baker City, OR United States</td>\n",
       "    </tr>\n",
       "  </tbody>\n",
       "</table>\n",
       "</div>"
      ],
      "text/plain": [
       "            brewery_name                    brewery_place\n",
       "0  Klamath Basin Brewing  Klamath Falls, OR United States\n",
       "1             McMenamins       Portland, OR United States\n",
       "2       Brauerei Veltins       59872 Meschede, NW Germany\n",
       "3      Migration Brewing       Portland, OR United States\n",
       "4      Migration Brewing       Portland, OR United States\n",
       "5      Migration Brewing       Portland, OR United States\n",
       "6      Migration Brewing       Portland, OR United States\n",
       "7      Migration Brewing       Portland, OR United States\n",
       "8      Migration Brewing       Portland, OR United States\n",
       "9    Barley Brown's Beer     Baker City, OR United States"
      ]
     },
     "execution_count": 3,
     "metadata": {},
     "output_type": "execute_result"
    }
   ],
   "source": [
    "# load the untappd data and look at the first 10 brewery names and places\n",
    "df = pd.read_csv('data/untappd_details.csv', encoding='utf-8')\n",
    "df[['brewery_name', 'brewery_place']].head(10)"
   ]
  },
  {
   "cell_type": "code",
   "execution_count": 4,
   "metadata": {
    "collapsed": false
   },
   "outputs": [
    {
     "name": "stdout",
     "output_type": "stream",
     "text": [
      "1540\n",
      "280\n"
     ]
    }
   ],
   "source": [
    "# how many total brewery places are there, and how many unique places are there?\n",
    "print(len(df['brewery_place']))\n",
    "print(len(df['brewery_place'].unique()))"
   ]
  },
  {
   "cell_type": "code",
   "execution_count": 5,
   "metadata": {
    "collapsed": true
   },
   "outputs": [],
   "source": [
    "# first clean up any places with parentheses or slashes, like myanmar and china\n",
    "df['brewery_place'] = df['brewery_place'].map(lambda x: x.split(' (')[0])\n",
    "df['brewery_place'] = df['brewery_place'].map(lambda x: x.split(' /')[0])"
   ]
  },
  {
   "cell_type": "code",
   "execution_count": 6,
   "metadata": {
    "collapsed": false
   },
   "outputs": [],
   "source": [
    "# select only the unique places and drop any that are just 'other'\n",
    "brewery_places = pd.Series(df['brewery_place'].unique())\n",
    "brewery_places = brewery_places[~(brewery_places=='Other')]\n",
    "brewery_places = brewery_places.sort_values()"
   ]
  },
  {
   "cell_type": "code",
   "execution_count": 7,
   "metadata": {
    "collapsed": true
   },
   "outputs": [],
   "source": [
    "# function that accepts an address string, sends it to the Google API, and returns the lat-long API result\n",
    "def geocode_google(address):\n",
    "    time.sleep(pause) #pause for some duration before each request, to not hammer their server\n",
    "    url = 'http://maps.googleapis.com/maps/api/geocode/json?address={}&sensor=false' #api url with placeholders\n",
    "    request = url.format(address)\n",
    "    response = requests.get(request)\n",
    "    data = response.json()\n",
    "    \n",
    "    if len(data['results']) > 0: #if google was able to geolocate our address, extract lat-long from result\n",
    "        latitude = data['results'][0]['geometry']['location']['lat']\n",
    "        longitude = data['results'][0]['geometry']['location']['lng']\n",
    "        return '{},{}'.format(latitude, longitude) #return lat-long as a string in the format google likes"
   ]
  },
  {
   "cell_type": "code",
   "execution_count": 8,
   "metadata": {
    "collapsed": true
   },
   "outputs": [],
   "source": [
    "def geocode_nominatim(address):\n",
    "    time.sleep(pause)\n",
    "    url = 'https://nominatim.openstreetmap.org/search?format=json&q={}'\n",
    "    request = url.format(address)\n",
    "    response = requests.get(request)\n",
    "    data = response.json()\n",
    "    if len(data) > 0:\n",
    "        return '{},{}'.format(data[0]['lat'], data[0]['lon'])"
   ]
  },
  {
   "cell_type": "code",
   "execution_count": 9,
   "metadata": {
    "collapsed": false
   },
   "outputs": [],
   "source": [
    "# geocode all the unique brewery places using the google maps api\n",
    "brewery_latlngs = brewery_places.map(geocode_google)"
   ]
  },
  {
   "cell_type": "code",
   "execution_count": 10,
   "metadata": {
    "collapsed": false
   },
   "outputs": [
    {
     "name": "stdout",
     "output_type": "stream",
     "text": [
      "after google, 2 places lack lat-long\n"
     ]
    }
   ],
   "source": [
    "# how many places failed to geocode?\n",
    "brewery_places_failed = brewery_places[brewery_latlngs[pd.isnull(brewery_latlngs)].index]\n",
    "print('after google, {} places lack lat-long'.format(len(brewery_places_failed)))"
   ]
  },
  {
   "cell_type": "code",
   "execution_count": 11,
   "metadata": {
    "collapsed": false
   },
   "outputs": [
    {
     "name": "stdout",
     "output_type": "stream",
     "text": [
      "after nominatim, 1 places lack lat-long\n"
     ]
    }
   ],
   "source": [
    "# re-try any that failed to geocode, but this time use the nominatim api\n",
    "brewery_latlngs_nominatim = brewery_places_failed.map(geocode_nominatim)\n",
    "brewery_places_failed = brewery_places[brewery_latlngs_nominatim[pd.isnull(brewery_latlngs_nominatim)].index]\n",
    "print('after nominatim, {} places lack lat-long'.format(len(brewery_places_failed)))"
   ]
  },
  {
   "cell_type": "code",
   "execution_count": 12,
   "metadata": {
    "collapsed": false
   },
   "outputs": [],
   "source": [
    "# update the latlng values in brewery_latlngs based on any new results from nominatim\n",
    "for label in brewery_latlngs_nominatim.index:\n",
    "    brewery_latlngs[label] = brewery_latlngs_nominatim[label]"
   ]
  },
  {
   "cell_type": "code",
   "execution_count": 13,
   "metadata": {
    "collapsed": false
   },
   "outputs": [],
   "source": [
    "# create a dict with key of place name and value of lat-long\n",
    "place_latlng = {}\n",
    "for label in brewery_places.index:\n",
    "    key = brewery_places[label]\n",
    "    val = brewery_latlngs[label]\n",
    "    place_latlng[key] = val"
   ]
  },
  {
   "cell_type": "code",
   "execution_count": 14,
   "metadata": {
    "collapsed": false
   },
   "outputs": [],
   "source": [
    "def get_latlng(brewery_place):\n",
    "    try:\n",
    "        return place_latlng[brewery_place]\n",
    "    except:\n",
    "        return None\n",
    "\n",
    "df['brewery_latlng'] = df['brewery_place'].map(get_latlng)"
   ]
  },
  {
   "cell_type": "code",
   "execution_count": 15,
   "metadata": {
    "collapsed": false
   },
   "outputs": [],
   "source": [
    "# split latlng into separate lat and lon columns\n",
    "df['brewery_lat'] = df['brewery_latlng'].map(lambda x: x.split(',')[0] if pd.notnull(x) else np.nan)\n",
    "df['brewery_lon'] = df['brewery_latlng'].map(lambda x: x.split(',')[1] if pd.notnull(x) else np.nan)\n",
    "df = df.drop('brewery_latlng', axis=1)"
   ]
  },
  {
   "cell_type": "code",
   "execution_count": 16,
   "metadata": {
    "collapsed": false
   },
   "outputs": [
    {
     "data": {
      "text/html": [
       "<div>\n",
       "<table border=\"1\" class=\"dataframe\">\n",
       "  <thead>\n",
       "    <tr style=\"text-align: right;\">\n",
       "      <th></th>\n",
       "      <th>brewery_name</th>\n",
       "      <th>brewery_place</th>\n",
       "      <th>brewery_lat</th>\n",
       "      <th>brewery_lon</th>\n",
       "    </tr>\n",
       "  </thead>\n",
       "  <tbody>\n",
       "    <tr>\n",
       "      <th>0</th>\n",
       "      <td>Klamath Basin Brewing</td>\n",
       "      <td>Klamath Falls, OR United States</td>\n",
       "      <td>42.224867</td>\n",
       "      <td>-121.7816704</td>\n",
       "    </tr>\n",
       "    <tr>\n",
       "      <th>1</th>\n",
       "      <td>McMenamins</td>\n",
       "      <td>Portland, OR United States</td>\n",
       "      <td>45.5230622</td>\n",
       "      <td>-122.6764816</td>\n",
       "    </tr>\n",
       "    <tr>\n",
       "      <th>2</th>\n",
       "      <td>Brauerei Veltins</td>\n",
       "      <td>59872 Meschede, NW Germany</td>\n",
       "      <td>51.3292568</td>\n",
       "      <td>8.2575415</td>\n",
       "    </tr>\n",
       "    <tr>\n",
       "      <th>3</th>\n",
       "      <td>Migration Brewing</td>\n",
       "      <td>Portland, OR United States</td>\n",
       "      <td>45.5230622</td>\n",
       "      <td>-122.6764816</td>\n",
       "    </tr>\n",
       "    <tr>\n",
       "      <th>4</th>\n",
       "      <td>Migration Brewing</td>\n",
       "      <td>Portland, OR United States</td>\n",
       "      <td>45.5230622</td>\n",
       "      <td>-122.6764816</td>\n",
       "    </tr>\n",
       "    <tr>\n",
       "      <th>5</th>\n",
       "      <td>Migration Brewing</td>\n",
       "      <td>Portland, OR United States</td>\n",
       "      <td>45.5230622</td>\n",
       "      <td>-122.6764816</td>\n",
       "    </tr>\n",
       "    <tr>\n",
       "      <th>6</th>\n",
       "      <td>Migration Brewing</td>\n",
       "      <td>Portland, OR United States</td>\n",
       "      <td>45.5230622</td>\n",
       "      <td>-122.6764816</td>\n",
       "    </tr>\n",
       "    <tr>\n",
       "      <th>7</th>\n",
       "      <td>Migration Brewing</td>\n",
       "      <td>Portland, OR United States</td>\n",
       "      <td>45.5230622</td>\n",
       "      <td>-122.6764816</td>\n",
       "    </tr>\n",
       "    <tr>\n",
       "      <th>8</th>\n",
       "      <td>Migration Brewing</td>\n",
       "      <td>Portland, OR United States</td>\n",
       "      <td>45.5230622</td>\n",
       "      <td>-122.6764816</td>\n",
       "    </tr>\n",
       "    <tr>\n",
       "      <th>9</th>\n",
       "      <td>Barley Brown's Beer</td>\n",
       "      <td>Baker City, OR United States</td>\n",
       "      <td>44.7748748</td>\n",
       "      <td>-117.8343848</td>\n",
       "    </tr>\n",
       "  </tbody>\n",
       "</table>\n",
       "</div>"
      ],
      "text/plain": [
       "            brewery_name                    brewery_place brewery_lat  \\\n",
       "0  Klamath Basin Brewing  Klamath Falls, OR United States   42.224867   \n",
       "1             McMenamins       Portland, OR United States  45.5230622   \n",
       "2       Brauerei Veltins       59872 Meschede, NW Germany  51.3292568   \n",
       "3      Migration Brewing       Portland, OR United States  45.5230622   \n",
       "4      Migration Brewing       Portland, OR United States  45.5230622   \n",
       "5      Migration Brewing       Portland, OR United States  45.5230622   \n",
       "6      Migration Brewing       Portland, OR United States  45.5230622   \n",
       "7      Migration Brewing       Portland, OR United States  45.5230622   \n",
       "8      Migration Brewing       Portland, OR United States  45.5230622   \n",
       "9    Barley Brown's Beer     Baker City, OR United States  44.7748748   \n",
       "\n",
       "    brewery_lon  \n",
       "0  -121.7816704  \n",
       "1  -122.6764816  \n",
       "2     8.2575415  \n",
       "3  -122.6764816  \n",
       "4  -122.6764816  \n",
       "5  -122.6764816  \n",
       "6  -122.6764816  \n",
       "7  -122.6764816  \n",
       "8  -122.6764816  \n",
       "9  -117.8343848  "
      ]
     },
     "execution_count": 16,
     "metadata": {},
     "output_type": "execute_result"
    }
   ],
   "source": [
    "# look at the first 10 breweries and their lat-longs\n",
    "df[['brewery_name', 'brewery_place', 'brewery_lat', 'brewery_lon']].head(10)"
   ]
  },
  {
   "cell_type": "code",
   "execution_count": 17,
   "metadata": {
    "collapsed": true
   },
   "outputs": [],
   "source": [
    "# save to csv\n",
    "df.to_csv('data/untappd_details_geocoded.csv', index=False, encoding='utf-8')"
   ]
  },
  {
   "cell_type": "code",
   "execution_count": null,
   "metadata": {
    "collapsed": true
   },
   "outputs": [],
   "source": []
  }
 ],
 "metadata": {
  "kernelspec": {
   "display_name": "Python 3",
   "language": "python",
   "name": "python3"
  },
  "language_info": {
   "codemirror_mode": {
    "name": "ipython",
    "version": 3
   },
   "file_extension": ".py",
   "mimetype": "text/x-python",
   "name": "python",
   "nbconvert_exporter": "python",
   "pygments_lexer": "ipython3",
   "version": "3.5.2"
  }
 },
 "nbformat": 4,
 "nbformat_minor": 0
}
