{
 "cells": [
  {
   "cell_type": "markdown",
   "metadata": {},
   "source": [
    "# Part 1: Download Your Untappd History Data\n",
    "\n"
   ]
  },
  {
   "cell_type": "code",
   "execution_count": 1,
   "metadata": {
    "collapsed": false
   },
   "outputs": [],
   "source": [
    "import time, random, pandas as pd, pytz\n",
    "from dateutil import parser as date_parser\n",
    "from datetime import datetime as dt\n",
    "from selenium import webdriver\n",
    "from selenium.webdriver.common.keys import Keys\n",
    "from selenium.webdriver.chrome.options import Options\n",
    "from selenium.webdriver.common.by import By\n",
    "from selenium.webdriver.common.action_chains import ActionChains\n",
    "\n",
    "from keys import untappd_username, untappd_password"
   ]
  },
  {
   "cell_type": "code",
   "execution_count": 2,
   "metadata": {
    "collapsed": true
   },
   "outputs": [],
   "source": [
    "# only get n check-ins, or get all of them if 0\n",
    "limit_checkin_count = 0\n",
    "\n",
    "# define the url to log into untappd and the url for the user's profile\n",
    "login_url = 'https://untappd.com/login'\n",
    "profile_url = 'https://untappd.com/user/{}'.format(untappd_username)"
   ]
  },
  {
   "cell_type": "code",
   "execution_count": 3,
   "metadata": {
    "collapsed": true
   },
   "outputs": [],
   "source": [
    "# define html element ids for username and password input boxes\n",
    "username_box_id = 'username'\n",
    "password_box_id = 'password'\n",
    "\n",
    "# define xpath queries to find the html elements of interest\n",
    "show_more_button_query = '//a[@class=\"yellow button more_checkins more_checkins_logged track-click\"]'\n",
    "checkin_item_query = '//div[@id=\"main-stream\"]/div[@class=\"item\"]'\n",
    "beer_name_query = '//div[@id=\"{}\"]/div[@class=\"checkin\"]/div[@class=\"top\"]/p[@class=\"text\"]/a'\n",
    "count_query = '//div[@class=\"stats-bar\"]/div[@class=\"stats\"]/a[@href=\"/user/{}\"]/span[@class=\"stat\"]'\n",
    "rating_query = '//div[@id=\"{}\"]/div[@class=\"checkin\"]/div[@class=\"top\"]/p[@class=\"checkin-comment\"]/span[contains(@class, \"rating\")]'\n",
    "date_query = '//div[@id=\"{}\"]/div[@class=\"checkin\"]/div[@class=\"feedback\"]/div[@class=\"bottom\"]/a[@class=\"time timezoner track-click\"]'"
   ]
  },
  {
   "cell_type": "code",
   "execution_count": 4,
   "metadata": {
    "collapsed": true
   },
   "outputs": [],
   "source": [
    "# define the pause durations\n",
    "short_pause_min = 1\n",
    "short_pause_max = 2\n",
    "medium_pause_min = 3\n",
    "medium_pause_max = 4\n",
    "long_pause_min = 5\n",
    "long_pause_max = 6"
   ]
  },
  {
   "cell_type": "code",
   "execution_count": 5,
   "metadata": {
    "collapsed": true
   },
   "outputs": [],
   "source": [
    "# define the options for launching chrome\n",
    "chrome_options = Options()\n",
    "chrome_options.add_argument('--disable-extensions')\n",
    "chrome_options.binary_location = 'C:/Program Files (x86)/Google/Chrome/Application/chrome.exe'\n",
    "executable_path = 'chromedriver.exe'\n",
    "maximize_window = False"
   ]
  },
  {
   "cell_type": "code",
   "execution_count": 6,
   "metadata": {
    "collapsed": true
   },
   "outputs": [],
   "source": [
    "# define pause functions\n",
    "def pause(duration_min, duration_max):\n",
    "    duration = (duration_max - duration_min) * random.random() + duration_min\n",
    "    time.sleep(duration)\n",
    "\n",
    "def pause_short():\n",
    "    pause(short_pause_min, short_pause_max)\n",
    "\n",
    "def pause_medium():\n",
    "    pause(medium_pause_min, medium_pause_max)\n",
    "    \n",
    "def pause_long():\n",
    "    pause(long_pause_min, long_pause_max)"
   ]
  },
  {
   "cell_type": "code",
   "execution_count": 7,
   "metadata": {
    "collapsed": true
   },
   "outputs": [],
   "source": [
    "def get_details(names_urls):\n",
    "\n",
    "    # initialize the name and link variables with empty strings\n",
    "    beer_name = ''\n",
    "    beer_url = ''\n",
    "    brewery_name = ''\n",
    "    brewery_url = ''\n",
    "    venue_name = ''\n",
    "    venue_url = ''\n",
    "\n",
    "    # for each name+link pair we found, see if it's a beer, a brewery, or a venue\n",
    "    for name, url in names_urls:\n",
    "        if '/b/' in url:\n",
    "            beer_name = name\n",
    "            beer_url = url\n",
    "        elif '/w/' in url:\n",
    "            brewery_name = name\n",
    "            brewery_url = url\n",
    "        elif '/v/' in url:\n",
    "            venue_name = name\n",
    "            venue_url = url\n",
    "\n",
    "    return beer_name, beer_url, brewery_name, brewery_url, venue_name, venue_url"
   ]
  },
  {
   "cell_type": "code",
   "execution_count": 8,
   "metadata": {
    "collapsed": false
   },
   "outputs": [
    {
     "name": "stdout",
     "output_type": "stream",
     "text": [
      "start time 18:03:34\n"
     ]
    }
   ],
   "source": [
    "# determine the time the script started at\n",
    "start_time = time.time()\n",
    "print('start time {}'.format(dt.fromtimestamp(start_time).strftime('%H:%M:%S')))"
   ]
  },
  {
   "cell_type": "code",
   "execution_count": 9,
   "metadata": {
    "collapsed": false
   },
   "outputs": [],
   "source": [
    "# launch the chrome driver, then clear cookies and cache\n",
    "driver = webdriver.Chrome(executable_path=executable_path, chrome_options=chrome_options)\n",
    "driver.delete_all_cookies()\n",
    "if maximize_window:\n",
    "    driver.maximize_window()"
   ]
  },
  {
   "cell_type": "code",
   "execution_count": 10,
   "metadata": {
    "collapsed": false
   },
   "outputs": [],
   "source": [
    "# log into untappd\n",
    "driver.get(login_url)\n",
    "pause_short()\n",
    "\n",
    "username_box = driver.find_element_by_id(username_box_id)\n",
    "username_box.clear()\n",
    "username_box.send_keys(untappd_username)\n",
    "username_box.send_keys(Keys.TAB)\n",
    "pause_short()\n",
    "\n",
    "password_box = driver.find_element_by_id(password_box_id)\n",
    "password_box.clear()\n",
    "password_box.send_keys(untappd_password)\n",
    "pause_short()\n",
    "\n",
    "password_box.send_keys(Keys.ENTER)\n",
    "pause_medium()"
   ]
  },
  {
   "cell_type": "code",
   "execution_count": 11,
   "metadata": {
    "collapsed": false
   },
   "outputs": [],
   "source": [
    "#close the app download ad banner if it's up\n",
    "try:\n",
    "    driver.switch_to.frame(driver.find_element_by_tag_name('iframe'))\n",
    "    driver.find_elements(By.XPATH, '//div[@id=\"branch-banner-close\"]')[0].click()\n",
    "    driver.switch_to.default_content()\n",
    "    pause_short()\n",
    "except:\n",
    "    pass"
   ]
  },
  {
   "cell_type": "code",
   "execution_count": 12,
   "metadata": {
    "collapsed": true
   },
   "outputs": [],
   "source": [
    "# go to the user's profile page\n",
    "driver.get(profile_url)\n",
    "pause_short()"
   ]
  },
  {
   "cell_type": "code",
   "execution_count": 13,
   "metadata": {
    "collapsed": false
   },
   "outputs": [
    {
     "name": "stdout",
     "output_type": "stream",
     "text": [
      "1,540\n"
     ]
    }
   ],
   "source": [
    "# get the count of total check-ins\n",
    "pause_medium()\n",
    "checkin_count_item = driver.find_elements(By.XPATH, count_query.format(untappd_username))[0]\n",
    "checkin_count = int(checkin_count_item.text.replace(',', ''))\n",
    "print('{:,}'.format(checkin_count))"
   ]
  },
  {
   "cell_type": "code",
   "execution_count": 14,
   "metadata": {
    "collapsed": false
   },
   "outputs": [
    {
     "name": "stdout",
     "output_type": "stream",
     "text": [
      "scroll count: 1, found: 40 check-ins total\n",
      "scroll count: 2, found: 65 check-ins total\n",
      "scroll count: 3, found: 90 check-ins total\n",
      "scroll count: 4, found: 115 check-ins total\n",
      "scroll count: 5, found: 140 check-ins total\n",
      "scroll count: 6, found: 165 check-ins total\n",
      "scroll count: 7, found: 190 check-ins total\n",
      "scroll count: 8, found: 215 check-ins total\n",
      "scroll count: 9, found: 240 check-ins total\n",
      "scroll count: 10, found: 265 check-ins total\n",
      "scroll count: 11, found: 290 check-ins total\n",
      "scroll count: 12, found: 315 check-ins total\n",
      "scroll count: 13, found: 340 check-ins total\n",
      "scroll count: 14, found: 365 check-ins total\n",
      "scroll count: 15, found: 390 check-ins total\n",
      "scroll count: 16, found: 415 check-ins total\n",
      "scroll count: 17, found: 440 check-ins total\n",
      "scroll count: 18, found: 465 check-ins total\n",
      "scroll count: 19, found: 490 check-ins total\n",
      "scroll count: 20, found: 515 check-ins total\n",
      "scroll count: 21, found: 540 check-ins total\n",
      "scroll count: 22, found: 565 check-ins total\n",
      "scroll count: 23, found: 590 check-ins total\n",
      "scroll count: 24, found: 615 check-ins total\n",
      "scroll count: 25, found: 640 check-ins total\n",
      "scroll count: 26, found: 665 check-ins total\n",
      "scroll count: 27, found: 690 check-ins total\n",
      "scroll count: 28, found: 715 check-ins total\n",
      "scroll count: 29, found: 740 check-ins total\n",
      "scroll count: 30, found: 765 check-ins total\n",
      "scroll count: 31, found: 790 check-ins total\n",
      "scroll count: 32, found: 815 check-ins total\n",
      "scroll count: 33, found: 840 check-ins total\n",
      "scroll count: 34, found: 865 check-ins total\n",
      "scroll count: 35, found: 890 check-ins total\n",
      "scroll count: 36, found: 915 check-ins total\n",
      "scroll count: 37, found: 940 check-ins total\n",
      "scroll count: 38, found: 965 check-ins total\n",
      "scroll count: 39, found: 990 check-ins total\n",
      "scroll count: 40, found: 1,015 check-ins total\n",
      "scroll count: 41, found: 1,040 check-ins total\n",
      "scroll count: 42, found: 1,065 check-ins total\n",
      "scroll count: 43, found: 1,090 check-ins total\n",
      "scroll count: 44, found: 1,115 check-ins total\n",
      "scroll count: 45, found: 1,140 check-ins total\n",
      "scroll count: 46, found: 1,165 check-ins total\n",
      "scroll count: 47, found: 1,190 check-ins total\n",
      "scroll count: 48, found: 1,215 check-ins total\n",
      "scroll count: 49, found: 1,240 check-ins total\n",
      "scroll count: 50, found: 1,240 check-ins total\n",
      "scroll count: 51, found: 1,290 check-ins total\n",
      "scroll count: 52, found: 1,315 check-ins total\n",
      "scroll count: 53, found: 1,315 check-ins total\n",
      "scroll count: 54, found: 1,365 check-ins total\n",
      "scroll count: 55, found: 1,390 check-ins total\n",
      "scroll count: 56, found: 1,415 check-ins total\n",
      "scroll count: 57, found: 1,440 check-ins total\n",
      "scroll count: 58, found: 1,465 check-ins total\n",
      "scroll count: 59, found: 1,490 check-ins total\n",
      "scroll count: 60, found: 1,515 check-ins total\n",
      "scroll count: 61, found: 1,540 check-ins total\n"
     ]
    }
   ],
   "source": [
    "count_found = 0\n",
    "scroll_count = 0\n",
    "checkin_count = limit_checkin_count if limit_checkin_count > 0 else checkin_count\n",
    "\n",
    "# scroll to the bottom of the page\n",
    "actions = ActionChains(driver)\n",
    "actions.key_down(Keys.END).key_up(Keys.END).perform()\n",
    "pause_short()\n",
    "\n",
    "# until you've found all the check-ins you expect, click 'show more' button, scroll down, repeat\n",
    "while count_found < checkin_count:\n",
    "\n",
    "    # click the 'show more' button then pause while the new page data loads\n",
    "    driver.find_elements(By.XPATH, show_more_button_query)[0].click()\n",
    "    pause_long()\n",
    "\n",
    "    # tab off the 'show more' button then hit the end key\n",
    "    actions.key_down(Keys.SHIFT).key_down(Keys.TAB)         \\\n",
    "           .key_up(Keys.TAB).key_up(Keys.SHIFT)             \\\n",
    "           .key_down(Keys.END).key_up(Keys.END).perform()\n",
    "    pause_short()\n",
    "    \n",
    "    # increment the counter and count how many check-in items are on the page now\n",
    "    scroll_count += 1\n",
    "    count_found = len(driver.find_elements(By.XPATH, checkin_item_query))\n",
    "    print('scroll count: {}, found: {:,} check-ins total'.format(scroll_count, count_found))"
   ]
  },
  {
   "cell_type": "code",
   "execution_count": 15,
   "metadata": {
    "collapsed": false
   },
   "outputs": [
    {
     "name": "stdout",
     "output_type": "stream",
     "text": [
      "found 1,540 check-ins\n",
      "current time 18:25:37\n",
      "elapsed time so far: 1,322.6 secs\n"
     ]
    }
   ],
   "source": [
    "# report how many total check-in items were found in the end, and the current time\n",
    "checkin_items = driver.find_elements(By.XPATH, checkin_item_query)[:checkin_count]\n",
    "current_time = time.time()\n",
    "print('found {:,} check-ins'.format(len(checkin_items)))\n",
    "print('current time {}'.format(dt.fromtimestamp(current_time).strftime('%H:%M:%S')))\n",
    "print('elapsed time so far: {:,.1f} secs'.format(current_time-start_time))"
   ]
  },
  {
   "cell_type": "code",
   "execution_count": 16,
   "metadata": {
    "collapsed": false
   },
   "outputs": [],
   "source": [
    "# loop through each check-in item and get the beer, brewery, and venue details\n",
    "checkins = []\n",
    "for checkin_item in checkin_items:\n",
    "    \n",
    "    # get the check-in id then the names and links for the beer, brewery, and venue\n",
    "    checkin_item_id = checkin_item.get_attribute('id')\n",
    "    text_items = driver.find_elements(By.XPATH, beer_name_query.format(checkin_item_id))\n",
    "    names_urls = [(item.text, item.get_attribute('href')) for item in text_items]\n",
    "    \n",
    "    # get the beer, brewery, and venue details\n",
    "    beer_name, beer_url, brewery_name, brewery_url, venue_name, venue_url = get_details(names_urls)\n",
    "    \n",
    "    # when we're getting those details, get the rating\n",
    "    try:\n",
    "        rating_item = driver.find_elements(By.XPATH, rating_query.format(checkin_item_id))[0]\n",
    "        rating = int(rating_item.get_attribute('class').split(' r')[1]) / 100.\n",
    "    except:\n",
    "        rating = None\n",
    "    \n",
    "    # then get the date\n",
    "    date_item = driver.find_elements(By.XPATH, date_query.format(checkin_item_id))[0]\n",
    "    date = date_item.get_attribute('data-gregtime')\n",
    "    \n",
    "    # to get the style, public rating, public check-ins etc, you must visit the individual beer's page\n",
    "    \n",
    "    # now save the details to an object and append to the list\n",
    "    checkins.append({'checkin_id' : checkin_item_id.split('_')[1],\n",
    "                     'beer_name' : beer_name,\n",
    "                     'beer_url' : beer_url,\n",
    "                     'brewery_name' : brewery_name,\n",
    "                     'brewery_url' : brewery_url,\n",
    "                     'venue_name' : venue_name,\n",
    "                     'venue_url' : venue_url,\n",
    "                     'rating' : rating,\n",
    "                     'date' : date})"
   ]
  },
  {
   "cell_type": "code",
   "execution_count": 17,
   "metadata": {
    "collapsed": true
   },
   "outputs": [],
   "source": [
    "# all done, close the webdriver\n",
    "driver.close()"
   ]
  },
  {
   "cell_type": "code",
   "execution_count": 18,
   "metadata": {
    "collapsed": false
   },
   "outputs": [
    {
     "name": "stdout",
     "output_type": "stream",
     "text": [
      "end time 18:38:50\n",
      "elapsed time: 2,116.3 secs\n"
     ]
    }
   ],
   "source": [
    "# calculate the end time and the elapsed time\n",
    "end_time = time.time()\n",
    "print('end time {}'.format(dt.fromtimestamp(end_time).strftime('%H:%M:%S')))\n",
    "print('elapsed time: {:,.1f} secs'.format(end_time-start_time))"
   ]
  },
  {
   "cell_type": "code",
   "execution_count": 19,
   "metadata": {
    "collapsed": false
   },
   "outputs": [
    {
     "data": {
      "text/plain": [
       "{'beer_name': 'Morland Old Speckled Hen',\n",
       " 'beer_url': 'https://untappd.com/b/greene-king-morland-old-speckled-hen/3121',\n",
       " 'brewery_name': 'Greene King',\n",
       " 'brewery_url': 'https://untappd.com/w/greene-king/612',\n",
       " 'checkin_id': '17989067',\n",
       " 'date': 'Sat, 15 Dec 2012 23:32:01 +0000',\n",
       " 'rating': 3.5,\n",
       " 'venue_name': \"Schmidt's Pub\",\n",
       " 'venue_url': 'https://untappd.com/v/schmidts-pub/191667'}"
      ]
     },
     "execution_count": 19,
     "metadata": {},
     "output_type": "execute_result"
    }
   ],
   "source": [
    "# see my 10th check-in, as an example\n",
    "checkins[-10]"
   ]
  },
  {
   "cell_type": "code",
   "execution_count": 20,
   "metadata": {
    "collapsed": false
   },
   "outputs": [
    {
     "name": "stdout",
     "output_type": "stream",
     "text": [
      "created 1,540 rows\n"
     ]
    }
   ],
   "source": [
    "# turn the list of check-in dicts into a dataframe\n",
    "df = pd.DataFrame(checkins)\n",
    "print('created {:,} rows'.format(len(df)))"
   ]
  },
  {
   "cell_type": "code",
   "execution_count": 21,
   "metadata": {
    "collapsed": false
   },
   "outputs": [],
   "source": [
    "# convert each timestamp to pacific time\n",
    "def parse_convert_date(date_string):\n",
    "    date_time = date_parser.parse(date_string)\n",
    "    date_time_tz = date_time.replace(tzinfo=date_time.tzinfo).astimezone(pytz.timezone('US/Pacific'))\n",
    "    return date_time_tz\n",
    "    \n",
    "df['date_pacific_tz'] = df['date'].map(parse_convert_date)\n",
    "df = df.drop('date', axis=1)"
   ]
  },
  {
   "cell_type": "code",
   "execution_count": 22,
   "metadata": {
    "collapsed": false
   },
   "outputs": [
    {
     "data": {
      "text/html": [
       "<div>\n",
       "<table border=\"1\" class=\"dataframe\">\n",
       "  <thead>\n",
       "    <tr style=\"text-align: right;\">\n",
       "      <th></th>\n",
       "      <th>beer_name</th>\n",
       "      <th>beer_url</th>\n",
       "      <th>brewery_name</th>\n",
       "      <th>brewery_url</th>\n",
       "      <th>checkin_id</th>\n",
       "      <th>rating</th>\n",
       "      <th>venue_name</th>\n",
       "      <th>venue_url</th>\n",
       "      <th>date_pacific_tz</th>\n",
       "    </tr>\n",
       "  </thead>\n",
       "  <tbody>\n",
       "    <tr>\n",
       "      <th>0</th>\n",
       "      <td>51st State Pale Ale</td>\n",
       "      <td>https://untappd.com/b/klamath-basin-brewing-51...</td>\n",
       "      <td>Klamath Basin Brewing</td>\n",
       "      <td>https://untappd.com/w/klamath-basin-brewing/2600</td>\n",
       "      <td>346221201</td>\n",
       "      <td>4.00</td>\n",
       "      <td>Klamath Basin Brewing Co.</td>\n",
       "      <td>https://untappd.com/v/klamath-basin-brewing-co...</td>\n",
       "      <td>2016-08-08 12:44:47-07:00</td>\n",
       "    </tr>\n",
       "    <tr>\n",
       "      <th>1</th>\n",
       "      <td>Depave IPA</td>\n",
       "      <td>https://untappd.com/b/mcmenamins-depave-ipa/11...</td>\n",
       "      <td>McMenamins</td>\n",
       "      <td>https://untappd.com/w/mcmenamins/3674</td>\n",
       "      <td>346107123</td>\n",
       "      <td>4.00</td>\n",
       "      <td>McMenamins Kennedy School</td>\n",
       "      <td>https://untappd.com/v/mcmenamins-kennedy-schoo...</td>\n",
       "      <td>2016-08-07 19:05:36-07:00</td>\n",
       "    </tr>\n",
       "    <tr>\n",
       "      <th>2</th>\n",
       "      <td>Grevensteiner Landbier</td>\n",
       "      <td>https://untappd.com/b/brauerei-veltins-grevens...</td>\n",
       "      <td>Brauerei Veltins</td>\n",
       "      <td>https://untappd.com/w/brauerei-veltins/207</td>\n",
       "      <td>345728322</td>\n",
       "      <td>3.00</td>\n",
       "      <td>Stammtisch</td>\n",
       "      <td>https://untappd.com/v/stammtisch/1596315</td>\n",
       "      <td>2016-08-06 22:51:04-07:00</td>\n",
       "    </tr>\n",
       "    <tr>\n",
       "      <th>3</th>\n",
       "      <td>503 IPA</td>\n",
       "      <td>https://untappd.com/b/migration-brewing-503-ip...</td>\n",
       "      <td>Migration Brewing</td>\n",
       "      <td>https://untappd.com/w/migration-brewing/4838</td>\n",
       "      <td>345683595</td>\n",
       "      <td>4.25</td>\n",
       "      <td>Migration Brewing</td>\n",
       "      <td>https://untappd.com/v/migration-brewing/10357</td>\n",
       "      <td>2016-08-06 20:22:14-07:00</td>\n",
       "    </tr>\n",
       "    <tr>\n",
       "      <th>4</th>\n",
       "      <td>ISA Got Back</td>\n",
       "      <td>https://untappd.com/b/migration-brewing-isa-go...</td>\n",
       "      <td>Migration Brewing</td>\n",
       "      <td>https://untappd.com/w/migration-brewing/4838</td>\n",
       "      <td>345683439</td>\n",
       "      <td>3.75</td>\n",
       "      <td>Migration Brewing</td>\n",
       "      <td>https://untappd.com/v/migration-brewing/10357</td>\n",
       "      <td>2016-08-06 20:21:53-07:00</td>\n",
       "    </tr>\n",
       "  </tbody>\n",
       "</table>\n",
       "</div>"
      ],
      "text/plain": [
       "                beer_name                                           beer_url  \\\n",
       "0     51st State Pale Ale  https://untappd.com/b/klamath-basin-brewing-51...   \n",
       "1              Depave IPA  https://untappd.com/b/mcmenamins-depave-ipa/11...   \n",
       "2  Grevensteiner Landbier  https://untappd.com/b/brauerei-veltins-grevens...   \n",
       "3                 503 IPA  https://untappd.com/b/migration-brewing-503-ip...   \n",
       "4            ISA Got Back  https://untappd.com/b/migration-brewing-isa-go...   \n",
       "\n",
       "            brewery_name                                       brewery_url  \\\n",
       "0  Klamath Basin Brewing  https://untappd.com/w/klamath-basin-brewing/2600   \n",
       "1             McMenamins             https://untappd.com/w/mcmenamins/3674   \n",
       "2       Brauerei Veltins        https://untappd.com/w/brauerei-veltins/207   \n",
       "3      Migration Brewing      https://untappd.com/w/migration-brewing/4838   \n",
       "4      Migration Brewing      https://untappd.com/w/migration-brewing/4838   \n",
       "\n",
       "  checkin_id  rating                 venue_name  \\\n",
       "0  346221201    4.00  Klamath Basin Brewing Co.   \n",
       "1  346107123    4.00  McMenamins Kennedy School   \n",
       "2  345728322    3.00                 Stammtisch   \n",
       "3  345683595    4.25          Migration Brewing   \n",
       "4  345683439    3.75          Migration Brewing   \n",
       "\n",
       "                                           venue_url           date_pacific_tz  \n",
       "0  https://untappd.com/v/klamath-basin-brewing-co... 2016-08-08 12:44:47-07:00  \n",
       "1  https://untappd.com/v/mcmenamins-kennedy-schoo... 2016-08-07 19:05:36-07:00  \n",
       "2           https://untappd.com/v/stammtisch/1596315 2016-08-06 22:51:04-07:00  \n",
       "3      https://untappd.com/v/migration-brewing/10357 2016-08-06 20:22:14-07:00  \n",
       "4      https://untappd.com/v/migration-brewing/10357 2016-08-06 20:21:53-07:00  "
      ]
     },
     "execution_count": 22,
     "metadata": {},
     "output_type": "execute_result"
    }
   ],
   "source": [
    "df.head()"
   ]
  },
  {
   "cell_type": "code",
   "execution_count": 23,
   "metadata": {
    "collapsed": true
   },
   "outputs": [],
   "source": [
    "# save the dataset to csv\n",
    "df.to_csv('data/untappd.csv', index=False, encoding='utf-8')"
   ]
  },
  {
   "cell_type": "code",
   "execution_count": null,
   "metadata": {
    "collapsed": true
   },
   "outputs": [],
   "source": []
  }
 ],
 "metadata": {
  "kernelspec": {
   "display_name": "Python 3",
   "language": "python",
   "name": "python3"
  },
  "language_info": {
   "codemirror_mode": {
    "name": "ipython",
    "version": 3
   },
   "file_extension": ".py",
   "mimetype": "text/x-python",
   "name": "python",
   "nbconvert_exporter": "python",
   "pygments_lexer": "ipython3",
   "version": "3.5.2"
  }
 },
 "nbformat": 4,
 "nbformat_minor": 0
}
