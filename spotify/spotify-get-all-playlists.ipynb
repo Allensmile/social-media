{
 "cells": [
  {
   "cell_type": "markdown",
   "metadata": {},
   "source": [
    "# Get a list of all my Spotify playlists\n",
    "\n",
    "Spotipy documentation: https://spotipy.readthedocs.io/en/latest/\n",
    "\n",
    "Spotify API documentation: https://developer.spotify.com/web-api/"
   ]
  },
  {
   "cell_type": "code",
   "execution_count": 1,
   "metadata": {
    "collapsed": true
   },
   "outputs": [],
   "source": [
    "import spotipy, spotipy.util as util, pandas as pd, math, time\n",
    "from keys import spotify_username, spotify_client_id, spotify_client_secret, spotify_redirect_uri"
   ]
  },
  {
   "cell_type": "code",
   "execution_count": 2,
   "metadata": {
    "collapsed": true
   },
   "outputs": [],
   "source": [
    "limit = 50 #max playlists you can retrieve in a single request\n",
    "pause = 0.5 #how long to pause between requests"
   ]
  },
  {
   "cell_type": "markdown",
   "metadata": {},
   "source": [
    "## Authorize spotipy and connect"
   ]
  },
  {
   "cell_type": "code",
   "execution_count": 3,
   "metadata": {
    "collapsed": true
   },
   "outputs": [],
   "source": [
    "# define scope to work with playlists then get an auth token\n",
    "scope = 'playlist-read-private playlist-modify-private playlist-modify-public'\n",
    "token = util.prompt_for_user_token(spotify_username, scope, spotify_client_id, spotify_client_secret, spotify_redirect_uri)"
   ]
  },
  {
   "cell_type": "code",
   "execution_count": 4,
   "metadata": {
    "collapsed": true
   },
   "outputs": [],
   "source": [
    "# open a connection to spotify\n",
    "sp = spotipy.Spotify(auth=token)"
   ]
  },
  {
   "cell_type": "code",
   "execution_count": 5,
   "metadata": {
    "collapsed": true
   },
   "outputs": [],
   "source": [
    "# get the user id associated with this username\n",
    "user = sp.user(spotify_username)\n",
    "user_id = user['id']"
   ]
  },
  {
   "cell_type": "markdown",
   "metadata": {},
   "source": [
    "## Get my own playlists"
   ]
  },
  {
   "cell_type": "code",
   "execution_count": 6,
   "metadata": {
    "collapsed": true
   },
   "outputs": [],
   "source": [
    "def get_playlists(user_id):\n",
    "    \n",
    "    response = sp.user_playlists(user=user_id, limit=limit, offset=0)\n",
    "    playlists = response['items']\n",
    "    playlists_count = response['total']\n",
    "    additional_call_count = math.ceil((playlists_count - limit) / limit)\n",
    "    \n",
    "    for n in range(additional_call_count):\n",
    "        time.sleep(pause)\n",
    "        offset = (n + 1) * limit\n",
    "        playlists_batch = sp.user_playlists(user=user_id, limit=limit, offset=offset)\n",
    "        playlists.extend(playlists_batch['items'])\n",
    "\n",
    "    print('Retrieved {} playlists via {} API calls'.format(len(playlists), additional_call_count + 1))\n",
    "    return playlists"
   ]
  },
  {
   "cell_type": "code",
   "execution_count": 7,
   "metadata": {
    "collapsed": true
   },
   "outputs": [],
   "source": [
    "def make_df(playlists):\n",
    "    df = pd.DataFrame(playlists)\n",
    "    drop_cols = ['external_urls', 'href', 'images', 'snapshot_id', 'uri']\n",
    "    df = df[[col for col in df.columns if col not in drop_cols]]\n",
    "    df['owner'] = df['owner'].map(lambda x: x['id'])\n",
    "    df['tracks'] = df['tracks'].map(lambda x: x['total'])\n",
    "    return df"
   ]
  },
  {
   "cell_type": "code",
   "execution_count": 8,
   "metadata": {
    "collapsed": false
   },
   "outputs": [
    {
     "name": "stdout",
     "output_type": "stream",
     "text": [
      "Retrieved 142 playlists via 3 API calls\n"
     ]
    }
   ],
   "source": [
    "playlists = get_playlists(user_id)"
   ]
  },
  {
   "cell_type": "code",
   "execution_count": 9,
   "metadata": {
    "collapsed": false
   },
   "outputs": [
    {
     "data": {
      "text/html": [
       "<div>\n",
       "<table border=\"1\" class=\"dataframe\">\n",
       "  <thead>\n",
       "    <tr style=\"text-align: right;\">\n",
       "      <th></th>\n",
       "      <th>collaborative</th>\n",
       "      <th>id</th>\n",
       "      <th>name</th>\n",
       "      <th>owner</th>\n",
       "      <th>public</th>\n",
       "      <th>tracks</th>\n",
       "      <th>type</th>\n",
       "    </tr>\n",
       "  </thead>\n",
       "  <tbody>\n",
       "    <tr>\n",
       "      <th>0</th>\n",
       "      <td>False</td>\n",
       "      <td>1MQJHcaXE6KiefNSZksfzI</td>\n",
       "      <td>Discover Weekly</td>\n",
       "      <td>spotifydiscover</td>\n",
       "      <td>False</td>\n",
       "      <td>30</td>\n",
       "      <td>playlist</td>\n",
       "    </tr>\n",
       "    <tr>\n",
       "      <th>1</th>\n",
       "      <td>False</td>\n",
       "      <td>6ptGZf55DyKdPlVWS3ynVt</td>\n",
       "      <td>Starred</td>\n",
       "      <td>geoff.boeing</td>\n",
       "      <td>True</td>\n",
       "      <td>264</td>\n",
       "      <td>playlist</td>\n",
       "    </tr>\n",
       "    <tr>\n",
       "      <th>2</th>\n",
       "      <td>False</td>\n",
       "      <td>2SdIJ48fQqXXDcjgx4aAY8</td>\n",
       "      <td>Wedding</td>\n",
       "      <td>geoff.boeing</td>\n",
       "      <td>False</td>\n",
       "      <td>68</td>\n",
       "      <td>playlist</td>\n",
       "    </tr>\n",
       "    <tr>\n",
       "      <th>3</th>\n",
       "      <td>False</td>\n",
       "      <td>0HcttjMuy60QObMqg4Gt5X</td>\n",
       "      <td>African</td>\n",
       "      <td>geoff.boeing</td>\n",
       "      <td>False</td>\n",
       "      <td>196</td>\n",
       "      <td>playlist</td>\n",
       "    </tr>\n",
       "    <tr>\n",
       "      <th>4</th>\n",
       "      <td>False</td>\n",
       "      <td>0ec3auWRtoz6gJ7gGIrvk0</td>\n",
       "      <td>Japanese</td>\n",
       "      <td>geoff.boeing</td>\n",
       "      <td>True</td>\n",
       "      <td>309</td>\n",
       "      <td>playlist</td>\n",
       "    </tr>\n",
       "  </tbody>\n",
       "</table>\n",
       "</div>"
      ],
      "text/plain": [
       "  collaborative                      id             name            owner  \\\n",
       "0         False  1MQJHcaXE6KiefNSZksfzI  Discover Weekly  spotifydiscover   \n",
       "1         False  6ptGZf55DyKdPlVWS3ynVt          Starred     geoff.boeing   \n",
       "2         False  2SdIJ48fQqXXDcjgx4aAY8          Wedding     geoff.boeing   \n",
       "3         False  0HcttjMuy60QObMqg4Gt5X          African     geoff.boeing   \n",
       "4         False  0ec3auWRtoz6gJ7gGIrvk0         Japanese     geoff.boeing   \n",
       "\n",
       "  public  tracks      type  \n",
       "0  False      30  playlist  \n",
       "1   True     264  playlist  \n",
       "2  False      68  playlist  \n",
       "3  False     196  playlist  \n",
       "4   True     309  playlist  "
      ]
     },
     "execution_count": 9,
     "metadata": {},
     "output_type": "execute_result"
    }
   ],
   "source": [
    "df = make_df(playlists)\n",
    "df.head()"
   ]
  }
 ],
 "metadata": {
  "kernelspec": {
   "display_name": "Python 3",
   "language": "python",
   "name": "python3"
  },
  "language_info": {
   "codemirror_mode": {
    "name": "ipython",
    "version": 3
   },
   "file_extension": ".py",
   "mimetype": "text/x-python",
   "name": "python",
   "nbconvert_exporter": "python",
   "pygments_lexer": "ipython3",
   "version": "3.5.1"
  }
 },
 "nbformat": 4,
 "nbformat_minor": 0
}
