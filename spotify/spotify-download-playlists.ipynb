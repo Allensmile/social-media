{
 "cells": [
  {
   "cell_type": "markdown",
   "metadata": {},
   "source": [
    "# Download track details from spotify playlists\n",
    "\n",
    "Spotipy documentation: https://spotipy.readthedocs.io/en/latest/\n",
    "\n",
    "Spotify API documentation: https://developer.spotify.com/web-api/"
   ]
  },
  {
   "cell_type": "code",
   "execution_count": 1,
   "metadata": {
    "collapsed": false
   },
   "outputs": [],
   "source": [
    "import spotipy, spotipy.util as util, pandas as pd, math, time\n",
    "from keys import spotify_username, spotify_client_id, spotify_client_secret, spotify_redirect_uri"
   ]
  },
  {
   "cell_type": "code",
   "execution_count": 2,
   "metadata": {
    "collapsed": true
   },
   "outputs": [],
   "source": [
    "# define the playlist ids here\n",
    "playlist_ids = ['2UfBZ8aRbMniK0052b5uYb', '25suCiMhFOWCWLG2JLfhot']\n",
    "limit = 100 #number of tracks to download per request (max=100)\n",
    "pause = 0.5 #how long to pause between requests"
   ]
  },
  {
   "cell_type": "markdown",
   "metadata": {},
   "source": [
    "## Authorize spotipy and define functions for the download"
   ]
  },
  {
   "cell_type": "code",
   "execution_count": 3,
   "metadata": {
    "collapsed": false
   },
   "outputs": [],
   "source": [
    "# define scope to work with playlists then get an auth token\n",
    "scope = 'playlist-read-private playlist-modify-private playlist-modify-public'\n",
    "token = util.prompt_for_user_token(spotify_username, scope, spotify_client_id, spotify_client_secret, spotify_redirect_uri)"
   ]
  },
  {
   "cell_type": "code",
   "execution_count": 4,
   "metadata": {
    "collapsed": true
   },
   "outputs": [],
   "source": [
    "# function to determine how many tracks total are in a playlist\n",
    "def get_playlist_track_count(playlist_id):\n",
    "    playlist = sp.user_playlist(user=user_id, playlist_id=playlist_id)\n",
    "    track_count = playlist['tracks']['total']\n",
    "    return track_count"
   ]
  },
  {
   "cell_type": "code",
   "execution_count": 5,
   "metadata": {
    "collapsed": true
   },
   "outputs": [],
   "source": [
    "# function to iteratively get all the tracks from a playlist\n",
    "def get_playlist_tracks_details(playlist_id, user_id, track_count, limit):\n",
    "    playlist_tracks = []\n",
    "    call_count = math.ceil(track_count / limit)\n",
    "    for n in range(call_count):\n",
    "        time.sleep(pause)\n",
    "        offset = n * limit\n",
    "        tracks_batch = sp.user_playlist_tracks(user=user_id, playlist_id=playlist_id, fields=None, limit=limit, offset=offset)\n",
    "        for item in tracks_batch['items']:\n",
    "            item['playlist_id'] = playlist_id\n",
    "        playlist_tracks.extend(tracks_batch['items'])\n",
    "    return playlist_tracks"
   ]
  },
  {
   "cell_type": "markdown",
   "metadata": {},
   "source": [
    "## Begin the download process"
   ]
  },
  {
   "cell_type": "code",
   "execution_count": 6,
   "metadata": {
    "collapsed": false
   },
   "outputs": [],
   "source": [
    "# open a connection to spotify\n",
    "sp = spotipy.Spotify(auth=token)"
   ]
  },
  {
   "cell_type": "code",
   "execution_count": 7,
   "metadata": {
    "collapsed": false
   },
   "outputs": [],
   "source": [
    "# get the user id associated with this username\n",
    "user = sp.user(spotify_username)\n",
    "user_id = user['id']"
   ]
  },
  {
   "cell_type": "code",
   "execution_count": 8,
   "metadata": {
    "collapsed": false
   },
   "outputs": [
    {
     "name": "stdout",
     "output_type": "stream",
     "text": [
      "playlist 1 of 2: 2UfBZ8aRbMniK0052b5uYb\n",
      "  9,872 tracks in playlist 2UfBZ8aRbMniK0052b5uYb\n",
      "  9,872 tracks retrieved from API\n",
      "playlist 2 of 2: 25suCiMhFOWCWLG2JLfhot\n",
      "  9,352 tracks in playlist 25suCiMhFOWCWLG2JLfhot\n",
      "  9,352 tracks retrieved from API\n"
     ]
    }
   ],
   "source": [
    "# for each playlist id in the list, get the details of all the tracks in it\n",
    "tracks = []\n",
    "for playlist_id, n in zip(playlist_ids, range(len(playlist_ids))):\n",
    "    \n",
    "    print('playlist {} of {}: {}'.format(n+1, len(playlist_ids), playlist_id))\n",
    "    \n",
    "    track_count = get_playlist_track_count(playlist_id)\n",
    "    print('  {:,} tracks in playlist {}'.format(track_count, playlist_id))\n",
    "    \n",
    "    new_tracks = get_playlist_tracks_details(playlist_id, user_id, track_count, limit)\n",
    "    tracks.extend(new_tracks)\n",
    "    print('  {:,} tracks retrieved from API'.format(len(new_tracks)))"
   ]
  },
  {
   "cell_type": "markdown",
   "metadata": {},
   "source": [
    "## Extract and save the details"
   ]
  },
  {
   "cell_type": "code",
   "execution_count": 9,
   "metadata": {
    "collapsed": false
   },
   "outputs": [],
   "source": [
    "# for each downloaded track, extract the details to an object and append to list\n",
    "track_objects = []\n",
    "for track in tracks:\n",
    "    track_obj = {}\n",
    "    track_obj['album_name'] = track['track']['album']['name']\n",
    "    track_obj['album_id'] = track['track']['album']['id']\n",
    "    track_obj['artist_name'] = track['track']['artists'][0]['name']\n",
    "    track_obj['artist_id'] = track['track']['artists'][0]['id']\n",
    "    track_obj['track_name'] = track['track']['name']\n",
    "    track_obj['track_id'] = track['track']['id']\n",
    "    track_obj['duration_ms'] = track['track']['duration_ms']\n",
    "    track_obj['playlist_id'] = track['playlist_id']\n",
    "    track_objects.append(track_obj)"
   ]
  },
  {
   "cell_type": "code",
   "execution_count": 10,
   "metadata": {
    "collapsed": false
   },
   "outputs": [
    {
     "name": "stdout",
     "output_type": "stream",
     "text": [
      "19224\n"
     ]
    },
    {
     "data": {
      "text/html": [
       "<div>\n",
       "<table border=\"1\" class=\"dataframe\">\n",
       "  <thead>\n",
       "    <tr style=\"text-align: right;\">\n",
       "      <th></th>\n",
       "      <th>album_id</th>\n",
       "      <th>album_name</th>\n",
       "      <th>artist_id</th>\n",
       "      <th>artist_name</th>\n",
       "      <th>duration_ms</th>\n",
       "      <th>playlist_id</th>\n",
       "      <th>track_id</th>\n",
       "      <th>track_name</th>\n",
       "    </tr>\n",
       "  </thead>\n",
       "  <tbody>\n",
       "    <tr>\n",
       "      <th>0</th>\n",
       "      <td>6p5qrjJ5vdtO8eS0K2zyCs</td>\n",
       "      <td>The Moon Rising - Pipa &amp; Ruan</td>\n",
       "      <td>7cq68kwWhVASWHBr5OPlkV</td>\n",
       "      <td>Min Xiao-Fen</td>\n",
       "      <td>152800</td>\n",
       "      <td>2UfBZ8aRbMniK0052b5uYb</td>\n",
       "      <td>1KvrS59nB8zvnOdSnpn7LA</td>\n",
       "      <td>Meandering Stream from High Mountains</td>\n",
       "    </tr>\n",
       "    <tr>\n",
       "      <th>1</th>\n",
       "      <td>1WzRXeE4N7Ktzvhmvr4hew</td>\n",
       "      <td>金曲情不變新曲+精選珍藏版</td>\n",
       "      <td>4XgiICuVKb8ARTXG0kuDB1</td>\n",
       "      <td>陳浩德</td>\n",
       "      <td>153133</td>\n",
       "      <td>2UfBZ8aRbMniK0052b5uYb</td>\n",
       "      <td>0AJnuKVk8NFCjTLxQXmFq8</td>\n",
       "      <td>悲秋風</td>\n",
       "    </tr>\n",
       "    <tr>\n",
       "      <th>2</th>\n",
       "      <td>1hE6dawN13GR5EPHdBgTNf</td>\n",
       "      <td>京劇大典 9 紅生篇 (Masterpieces of Beijing Opera Vol. 9)</td>\n",
       "      <td>6mqzILewAiMgFvD2q49XRS</td>\n",
       "      <td>王鴻壽 (Wang Hongshou)</td>\n",
       "      <td>154480</td>\n",
       "      <td>2UfBZ8aRbMniK0052b5uYb</td>\n",
       "      <td>5k0cQHBIfgNAZtv8aKdPXJ</td>\n",
       "      <td>關公挑袍 (Guan Gong in Command)</td>\n",
       "    </tr>\n",
       "    <tr>\n",
       "      <th>3</th>\n",
       "      <td>0A8nzYNMn1MCzpieK6lgSX</td>\n",
       "      <td>Ancient Chinese Music: Shadows Of Apricot Blos...</td>\n",
       "      <td>32Em8TFlcUJmKrOq38ieJK</td>\n",
       "      <td>Shan Xiurong</td>\n",
       "      <td>154346</td>\n",
       "      <td>2UfBZ8aRbMniK0052b5uYb</td>\n",
       "      <td>6Cwc1YzmuN4qKWwoyCfV0U</td>\n",
       "      <td>Melancholy Over Lotus</td>\n",
       "    </tr>\n",
       "    <tr>\n",
       "      <th>4</th>\n",
       "      <td>4oKSTzh7Gg9py7rOJ3o2dS</td>\n",
       "      <td>Authentic Japan, Vol. 2: Descriptive Moods &amp; G...</td>\n",
       "      <td>3hTwdAdxr0CfpBlds2NbyT</td>\n",
       "      <td>Tadao Sawai</td>\n",
       "      <td>154000</td>\n",
       "      <td>2UfBZ8aRbMniK0052b5uYb</td>\n",
       "      <td>1Qb03s39BGIMOsPgcnG2dM</td>\n",
       "      <td>Early Spring</td>\n",
       "    </tr>\n",
       "  </tbody>\n",
       "</table>\n",
       "</div>"
      ],
      "text/plain": [
       "                 album_id                                         album_name  \\\n",
       "0  6p5qrjJ5vdtO8eS0K2zyCs                      The Moon Rising - Pipa & Ruan   \n",
       "1  1WzRXeE4N7Ktzvhmvr4hew                                      金曲情不變新曲+精選珍藏版   \n",
       "2  1hE6dawN13GR5EPHdBgTNf  京劇大典 9 紅生篇 (Masterpieces of Beijing Opera Vol. 9)   \n",
       "3  0A8nzYNMn1MCzpieK6lgSX  Ancient Chinese Music: Shadows Of Apricot Blos...   \n",
       "4  4oKSTzh7Gg9py7rOJ3o2dS  Authentic Japan, Vol. 2: Descriptive Moods & G...   \n",
       "\n",
       "                artist_id          artist_name  duration_ms  \\\n",
       "0  7cq68kwWhVASWHBr5OPlkV         Min Xiao-Fen       152800   \n",
       "1  4XgiICuVKb8ARTXG0kuDB1                  陳浩德       153133   \n",
       "2  6mqzILewAiMgFvD2q49XRS  王鴻壽 (Wang Hongshou)       154480   \n",
       "3  32Em8TFlcUJmKrOq38ieJK         Shan Xiurong       154346   \n",
       "4  3hTwdAdxr0CfpBlds2NbyT          Tadao Sawai       154000   \n",
       "\n",
       "              playlist_id                track_id  \\\n",
       "0  2UfBZ8aRbMniK0052b5uYb  1KvrS59nB8zvnOdSnpn7LA   \n",
       "1  2UfBZ8aRbMniK0052b5uYb  0AJnuKVk8NFCjTLxQXmFq8   \n",
       "2  2UfBZ8aRbMniK0052b5uYb  5k0cQHBIfgNAZtv8aKdPXJ   \n",
       "3  2UfBZ8aRbMniK0052b5uYb  6Cwc1YzmuN4qKWwoyCfV0U   \n",
       "4  2UfBZ8aRbMniK0052b5uYb  1Qb03s39BGIMOsPgcnG2dM   \n",
       "\n",
       "                              track_name  \n",
       "0  Meandering Stream from High Mountains  \n",
       "1                                    悲秋風  \n",
       "2            關公挑袍 (Guan Gong in Command)  \n",
       "3                  Melancholy Over Lotus  \n",
       "4                           Early Spring  "
      ]
     },
     "execution_count": 10,
     "metadata": {},
     "output_type": "execute_result"
    }
   ],
   "source": [
    "# create a dataframe from the list of objects\n",
    "df = pd.DataFrame(track_objects)\n",
    "print(len(df))\n",
    "df.head()"
   ]
  },
  {
   "cell_type": "code",
   "execution_count": 11,
   "metadata": {
    "collapsed": true
   },
   "outputs": [],
   "source": [
    "# save the dataframe to csv\n",
    "filename = 'data/playlist_tracks.csv'\n",
    "df.to_csv(filename, index=False, encoding='utf-8')"
   ]
  },
  {
   "cell_type": "code",
   "execution_count": null,
   "metadata": {
    "collapsed": true
   },
   "outputs": [],
   "source": []
  }
 ],
 "metadata": {
  "kernelspec": {
   "display_name": "Python 3",
   "language": "python",
   "name": "python3"
  },
  "language_info": {
   "codemirror_mode": {
    "name": "ipython",
    "version": 3
   },
   "file_extension": ".py",
   "mimetype": "text/x-python",
   "name": "python",
   "nbconvert_exporter": "python",
   "pygments_lexer": "ipython3",
   "version": "3.5.1"
  }
 },
 "nbformat": 4,
 "nbformat_minor": 0
}
