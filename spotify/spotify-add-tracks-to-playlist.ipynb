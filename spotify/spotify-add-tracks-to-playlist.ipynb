{
 "cells": [
  {
   "cell_type": "markdown",
   "metadata": {},
   "source": [
    "# Create spotify playlist and add tracks by ID\n",
    "\n",
    "Spotipy documentation: https://spotipy.readthedocs.io/en/latest/\n",
    "\n",
    "Spotify API documentation: https://developer.spotify.com/web-api/"
   ]
  },
  {
   "cell_type": "code",
   "execution_count": 1,
   "metadata": {
    "collapsed": true
   },
   "outputs": [],
   "source": [
    "import spotipy, spotipy.util as util, pandas as pd, math, time\n",
    "from keys import spotify_username, spotify_client_id, spotify_client_secret, spotify_redirect_uri"
   ]
  },
  {
   "cell_type": "code",
   "execution_count": 2,
   "metadata": {
    "collapsed": true
   },
   "outputs": [],
   "source": [
    "pause = 0.5 #how long to pause between requests\n",
    "limit = 100 #number of tracks to add per request (max=100)\n",
    "max_playlist_size = 11000 #max number of tracks spotify allows in a single playlist"
   ]
  },
  {
   "cell_type": "markdown",
   "metadata": {},
   "source": [
    "## Load the playlists and de-dupe by artist id"
   ]
  },
  {
   "cell_type": "code",
   "execution_count": 3,
   "metadata": {
    "collapsed": false
   },
   "outputs": [
    {
     "name": "stdout",
     "output_type": "stream",
     "text": [
      "19224\n"
     ]
    },
    {
     "data": {
      "text/plain": [
       "2UfBZ8aRbMniK0052b5uYb    9872\n",
       "25suCiMhFOWCWLG2JLfhot    9352\n",
       "Name: playlist_id, dtype: int64"
      ]
     },
     "execution_count": 3,
     "metadata": {},
     "output_type": "execute_result"
    }
   ],
   "source": [
    "df = pd.read_csv('data/playlist_tracks.csv', encoding='utf-8')\n",
    "print(len(df))\n",
    "df['playlist_id'].value_counts()"
   ]
  },
  {
   "cell_type": "code",
   "execution_count": 4,
   "metadata": {
    "collapsed": false
   },
   "outputs": [],
   "source": [
    "df = df.sort_values(by='duration_ms', ascending=True)"
   ]
  },
  {
   "cell_type": "code",
   "execution_count": 5,
   "metadata": {
    "collapsed": false
   },
   "outputs": [
    {
     "name": "stdout",
     "output_type": "stream",
     "text": [
      "11304\n"
     ]
    },
    {
     "data": {
      "text/plain": [
       "2UfBZ8aRbMniK0052b5uYb    5942\n",
       "25suCiMhFOWCWLG2JLfhot    5362\n",
       "Name: playlist_id, dtype: int64"
      ]
     },
     "execution_count": 5,
     "metadata": {},
     "output_type": "execute_result"
    }
   ],
   "source": [
    "df_unique = df.drop_duplicates(subset='artist_id', keep='first')\n",
    "df_unique = df_unique.sort_values(by='duration_ms', ascending=False)\n",
    "print(len(df_unique))\n",
    "df_unique['playlist_id'].value_counts()"
   ]
  },
  {
   "cell_type": "markdown",
   "metadata": {},
   "source": [
    "## Authorize spotipy and create connection"
   ]
  },
  {
   "cell_type": "code",
   "execution_count": 6,
   "metadata": {
    "collapsed": true
   },
   "outputs": [],
   "source": [
    "# define scope to work with playlists then get an auth token\n",
    "scope = 'playlist-read-private playlist-modify-private playlist-modify-public'\n",
    "token = util.prompt_for_user_token(spotify_username, scope, spotify_client_id, spotify_client_secret, spotify_redirect_uri)"
   ]
  },
  {
   "cell_type": "code",
   "execution_count": 7,
   "metadata": {
    "collapsed": true
   },
   "outputs": [],
   "source": [
    "# open a connection to spotify\n",
    "sp = spotipy.Spotify(auth=token)"
   ]
  },
  {
   "cell_type": "markdown",
   "metadata": {},
   "source": [
    "## Create playlist track ID lists (max 10,000 per playlist)"
   ]
  },
  {
   "cell_type": "code",
   "execution_count": 8,
   "metadata": {
    "collapsed": true
   },
   "outputs": [],
   "source": [
    "# get the user id associated with this username\n",
    "user = sp.user(spotify_username)\n",
    "user_id = user['id']"
   ]
  },
  {
   "cell_type": "code",
   "execution_count": 9,
   "metadata": {
    "collapsed": false
   },
   "outputs": [
    {
     "data": {
      "text/plain": [
       "11304"
      ]
     },
     "execution_count": 9,
     "metadata": {},
     "output_type": "execute_result"
    }
   ],
   "source": [
    "all_tracks = list(df_unique['track_id'].values)\n",
    "len(all_tracks)"
   ]
  },
  {
   "cell_type": "code",
   "execution_count": 10,
   "metadata": {
    "collapsed": false
   },
   "outputs": [],
   "source": [
    "# if length > max_playlist_size, you need multiple playlists\n",
    "playlists_tracks = []\n",
    "for n in range(math.ceil(len(all_tracks) / max_playlist_size)):\n",
    "    offset = n * max_playlist_size\n",
    "    playlists_tracks.append(all_tracks[offset:offset+max_playlist_size])"
   ]
  },
  {
   "cell_type": "markdown",
   "metadata": {},
   "source": [
    "## Create new playlists and add all the tracks to it"
   ]
  },
  {
   "cell_type": "code",
   "execution_count": 11,
   "metadata": {
    "collapsed": false
   },
   "outputs": [
    {
     "name": "stdout",
     "output_type": "stream",
     "text": [
      "Created playlist \"Big List 1466376055_1\", ID=4cAJGG9Ipf4RQ2xYbLfynL\n",
      "  Added 11,000 tracks to \"Big List 1466376055_1\"\n",
      "Created playlist \"Big List 1466376055_2\", ID=6xO9P9CpcmAGhGLKImPLFs\n",
      "  Added 304 tracks to \"Big List 1466376055_2\"\n"
     ]
    }
   ],
   "source": [
    "current_time = int(time.time())\n",
    "for playlist_tracks, i in zip(playlists_tracks, range(len(playlists_tracks))):\n",
    "    \n",
    "    new_playlist_name = 'Big List {}_{}'.format(current_time, i+1)\n",
    "    result = sp.user_playlist_create(user=user_id, name=new_playlist_name, public=False)\n",
    "    playlist_id = result['id']\n",
    "    print('Created playlist \"{}\", ID={}'.format(new_playlist_name, playlist_id))\n",
    "          \n",
    "    call_count = math.ceil(len(playlist_tracks) / limit)\n",
    "    tracks_added = []\n",
    "    for n in range(call_count):\n",
    "        time.sleep(pause)\n",
    "        offset = n * limit\n",
    "        tracks_batch = playlist_tracks[offset:offset+limit]\n",
    "        snapshot_id = sp.user_playlist_add_tracks(user=user_id, playlist_id=playlist_id, tracks=tracks_batch)\n",
    "        tracks_added.extend(tracks_batch)\n",
    "        \n",
    "    print('  Added {:,} tracks to \"{}\"'.format(len(tracks_added), new_playlist_name))"
   ]
  },
  {
   "cell_type": "code",
   "execution_count": null,
   "metadata": {
    "collapsed": true
   },
   "outputs": [],
   "source": []
  }
 ],
 "metadata": {
  "kernelspec": {
   "display_name": "Python 3",
   "language": "python",
   "name": "python3"
  },
  "language_info": {
   "codemirror_mode": {
    "name": "ipython",
    "version": 3
   },
   "file_extension": ".py",
   "mimetype": "text/x-python",
   "name": "python",
   "nbconvert_exporter": "python",
   "pygments_lexer": "ipython3",
   "version": "3.5.1"
  }
 },
 "nbformat": 4,
 "nbformat_minor": 0
}
